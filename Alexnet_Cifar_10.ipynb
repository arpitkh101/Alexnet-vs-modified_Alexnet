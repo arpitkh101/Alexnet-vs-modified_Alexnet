{
 "cells": [
  {
   "cell_type": "code",
   "execution_count": null,
   "metadata": {
    "colab": {},
    "colab_type": "code",
    "id": "dWCB92cgwZcX"
   },
   "outputs": [],
   "source": [
    "import torch\n",
    "import torch.nn as nn\n",
    "import torch.optim as optim\n",
    "import torch.nn.functional as F\n",
    "from torch.utils import data\n",
    "from torchvision import transforms, datasets\n",
    "import torchvision\n",
    "import numpy as np\n",
    "import pandas as pd\n"
   ]
  },
  {
   "cell_type": "code",
   "execution_count": null,
   "metadata": {
    "colab": {
     "base_uri": "https://localhost:8080/",
     "height": 34
    },
    "colab_type": "code",
    "id": "9OwA4LIYlySL",
    "outputId": "a8d68ab0-8717-4f26-be73-f44b755f1ce3"
   },
   "outputs": [
    {
     "name": "stdout",
     "output_type": "stream",
     "text": [
      "Drive already mounted at /content/drive; to attempt to forcibly remount, call drive.mount(\"/content/drive\", force_remount=True).\n"
     ]
    }
   ],
   "source": [
    "from google.colab import drive\n",
    "drive.mount('/content/drive')"
   ]
  },
  {
   "cell_type": "code",
   "execution_count": null,
   "metadata": {
    "colab": {},
    "colab_type": "code",
    "id": "cJTKDOVs0INc"
   },
   "outputs": [],
   "source": [
    "transform = transforms.Compose(\n",
    "    [transforms.Resize(224),transforms.ToTensor(),\n",
    "     transforms.Normalize(mean=[0.485, 0.456, 0.406], std=[0.229, 0.224, 0.225])])"
   ]
  },
  {
   "cell_type": "code",
   "execution_count": null,
   "metadata": {
    "colab": {
     "base_uri": "https://localhost:8080/",
     "height": 82,
     "referenced_widgets": [
      "ac0e380e4e414a8286bd499a2fdcea09",
      "fe4d2bbca07b4ae9ae77d9e74fcb0b66",
      "692e285280874c5591c2db3afa673459",
      "3acde0eac336436baae5fa6c8cac61aa",
      "6ecc3c02ccc341118d748b01d36103cc",
      "ba1b18be65df49a195e95b3d94fff104",
      "961926fdbb9a472e83c68fc4d1f9a635",
      "5c3d6bc6d6c24963ba7f3c050866a9d6"
     ]
    },
    "colab_type": "code",
    "id": "R1V3nPWw0NPD",
    "outputId": "e96e52ed-e2d3-477d-d654-fbb1bd337a2f"
   },
   "outputs": [
    {
     "name": "stdout",
     "output_type": "stream",
     "text": [
      "Downloading https://www.cs.toronto.edu/~kriz/cifar-10-python.tar.gz to ./data/cifar-10-python.tar.gz\n"
     ]
    },
    {
     "data": {
      "application/vnd.jupyter.widget-view+json": {
       "model_id": "ac0e380e4e414a8286bd499a2fdcea09",
       "version_major": 2,
       "version_minor": 0
      },
      "text/plain": [
       "HBox(children=(FloatProgress(value=1.0, bar_style='info', max=1.0), HTML(value='')))"
      ]
     },
     "metadata": {
      "tags": []
     },
     "output_type": "display_data"
    },
    {
     "name": "stdout",
     "output_type": "stream",
     "text": [
      "Extracting ./data/cifar-10-python.tar.gz to ./data\n"
     ]
    }
   ],
   "source": [
    "trainset = datasets.CIFAR10(root='./data', train=True,\n",
    "                                        download=True, transform=transform)\n",
    "trainloader = torch.utils.data.DataLoader(trainset, batch_size=32,\n",
    "                                          shuffle=True)"
   ]
  },
  {
   "cell_type": "code",
   "execution_count": null,
   "metadata": {
    "colab": {
     "base_uri": "https://localhost:8080/",
     "height": 185
    },
    "colab_type": "code",
    "id": "G6o09XFNKezS",
    "outputId": "6dc9275c-e960-4e22-bd82-8767ca278b36"
   },
   "outputs": [
    {
     "data": {
      "text/plain": [
       "Dataset CIFAR10\n",
       "    Number of datapoints: 50000\n",
       "    Root location: ./data\n",
       "    Split: Train\n",
       "    StandardTransform\n",
       "Transform: Compose(\n",
       "               Resize(size=224, interpolation=PIL.Image.BILINEAR)\n",
       "               ToTensor()\n",
       "               Normalize(mean=[0.485, 0.456, 0.406], std=[0.229, 0.224, 0.225])\n",
       "           )"
      ]
     },
     "execution_count": 4,
     "metadata": {
      "tags": []
     },
     "output_type": "execute_result"
    }
   ],
   "source": [
    "trainset"
   ]
  },
  {
   "cell_type": "code",
   "execution_count": null,
   "metadata": {
    "colab": {
     "base_uri": "https://localhost:8080/",
     "height": 34
    },
    "colab_type": "code",
    "id": "-xdfjQ500Rl2",
    "outputId": "099fc9d5-fe08-40ee-b8a5-842cde9d38e9"
   },
   "outputs": [
    {
     "name": "stdout",
     "output_type": "stream",
     "text": [
      "Files already downloaded and verified\n"
     ]
    }
   ],
   "source": [
    "testset = datasets.CIFAR10(root='./data', train=False,\n",
    "                                       download=True, transform=transform)\n",
    "testloader = torch.utils.data.DataLoader(testset, batch_size=32,\n",
    "                                         shuffle=False)"
   ]
  },
  {
   "cell_type": "code",
   "execution_count": null,
   "metadata": {
    "colab": {},
    "colab_type": "code",
    "id": "l6k--QUb0Wgs"
   },
   "outputs": [],
   "source": [
    "classes = ('plane', 'car', 'bird', 'cat',\n",
    "           'deer', 'dog', 'frog', 'horse', 'ship', 'truck')"
   ]
  },
  {
   "cell_type": "code",
   "execution_count": null,
   "metadata": {
    "colab": {
     "base_uri": "https://localhost:8080/",
     "height": 34
    },
    "colab_type": "code",
    "id": "Di0G6PAn0ZGk",
    "outputId": "d9ababbf-97b9-4f99-a773-6a9795b5988f"
   },
   "outputs": [
    {
     "name": "stdout",
     "output_type": "stream",
     "text": [
      "cuda:0\n"
     ]
    }
   ],
   "source": [
    "device = torch.device(\"cuda:0\" if torch.cuda.is_available() else \"cpu\")\n",
    "print(device)"
   ]
  },
  {
   "cell_type": "code",
   "execution_count": null,
   "metadata": {
    "colab": {
     "base_uri": "https://localhost:8080/",
     "height": 99,
     "referenced_widgets": [
      "5014f0a20f46486697ce0c820e3b354d",
      "000f0e3dc91f4dea91e6198d778715aa",
      "42a1f5ab0dc34377a857563606522a71",
      "e0c361d1091f46b383fec06bfafcc9c3",
      "f0b99be83afe484cbbeb6096ccc287bd",
      "616f6c2e49254ab99e0d4ce69f81f0ec",
      "e3cf9adba9a241dabcfc52ae45645f0a",
      "abcbf26dfe7344a7b2c05dba2aaec8ac"
     ]
    },
    "colab_type": "code",
    "id": "ybw26ixPO7dT",
    "outputId": "00dacfe7-0e32-4ef0-ccf1-9a052b8b6033"
   },
   "outputs": [
    {
     "name": "stderr",
     "output_type": "stream",
     "text": [
      "Downloading: \"https://github.com/pytorch/vision/archive/v0.6.0.zip\" to /root/.cache/torch/hub/v0.6.0.zip\n",
      "Downloading: \"https://download.pytorch.org/models/alexnet-owt-4df8aa71.pth\" to /root/.cache/torch/hub/checkpoints/alexnet-owt-4df8aa71.pth\n"
     ]
    },
    {
     "data": {
      "application/vnd.jupyter.widget-view+json": {
       "model_id": "5014f0a20f46486697ce0c820e3b354d",
       "version_major": 2,
       "version_minor": 0
      },
      "text/plain": [
       "HBox(children=(FloatProgress(value=0.0, max=244418560.0), HTML(value='')))"
      ]
     },
     "metadata": {
      "tags": []
     },
     "output_type": "display_data"
    },
    {
     "name": "stdout",
     "output_type": "stream",
     "text": [
      "\n"
     ]
    }
   ],
   "source": [
    "AlexNet = torch.hub.load('pytorch/vision:v0.6.0', 'alexnet', pretrained=True)"
   ]
  },
  {
   "cell_type": "code",
   "execution_count": null,
   "metadata": {
    "colab": {
     "base_uri": "https://localhost:8080/",
     "height": 470
    },
    "colab_type": "code",
    "id": "F8i50ejGPa89",
    "outputId": "f719622e-e26f-404d-a3b7-f297ce203b88"
   },
   "outputs": [
    {
     "data": {
      "text/plain": [
       "AlexNet(\n",
       "  (features): Sequential(\n",
       "    (0): Conv2d(3, 64, kernel_size=(11, 11), stride=(4, 4), padding=(2, 2))\n",
       "    (1): ReLU(inplace=True)\n",
       "    (2): MaxPool2d(kernel_size=3, stride=2, padding=0, dilation=1, ceil_mode=False)\n",
       "    (3): Conv2d(64, 192, kernel_size=(5, 5), stride=(1, 1), padding=(2, 2))\n",
       "    (4): ReLU(inplace=True)\n",
       "    (5): MaxPool2d(kernel_size=3, stride=2, padding=0, dilation=1, ceil_mode=False)\n",
       "    (6): Conv2d(192, 384, kernel_size=(3, 3), stride=(1, 1), padding=(1, 1))\n",
       "    (7): ReLU(inplace=True)\n",
       "    (8): Conv2d(384, 256, kernel_size=(3, 3), stride=(1, 1), padding=(1, 1))\n",
       "    (9): ReLU(inplace=True)\n",
       "    (10): Conv2d(256, 256, kernel_size=(3, 3), stride=(1, 1), padding=(1, 1))\n",
       "    (11): ReLU(inplace=True)\n",
       "    (12): MaxPool2d(kernel_size=3, stride=2, padding=0, dilation=1, ceil_mode=False)\n",
       "  )\n",
       "  (avgpool): AdaptiveAvgPool2d(output_size=(6, 6))\n",
       "  (classifier): Sequential(\n",
       "    (0): Dropout(p=0.5, inplace=False)\n",
       "    (1): Linear(in_features=9216, out_features=4096, bias=True)\n",
       "    (2): ReLU(inplace=True)\n",
       "    (3): Dropout(p=0.5, inplace=False)\n",
       "    (4): Linear(in_features=4096, out_features=4096, bias=True)\n",
       "    (5): ReLU(inplace=True)\n",
       "    (6): Linear(in_features=4096, out_features=1000, bias=True)\n",
       "  )\n",
       ")"
      ]
     },
     "execution_count": 9,
     "metadata": {
      "tags": []
     },
     "output_type": "execute_result"
    }
   ],
   "source": [
    "AlexNet.to(device)\n",
    "AlexNet.eval()"
   ]
  },
  {
   "cell_type": "code",
   "execution_count": null,
   "metadata": {
    "colab": {
     "base_uri": "https://localhost:8080/",
     "height": 470
    },
    "colab_type": "code",
    "id": "ggIpvZvM1NzV",
    "outputId": "7e55aaaf-b4cf-47ef-df66-c98d1145ca35"
   },
   "outputs": [
    {
     "data": {
      "text/plain": [
       "AlexNet(\n",
       "  (features): Sequential(\n",
       "    (0): Conv2d(3, 64, kernel_size=(11, 11), stride=(4, 4), padding=(2, 2))\n",
       "    (1): ReLU(inplace=True)\n",
       "    (2): MaxPool2d(kernel_size=3, stride=2, padding=0, dilation=1, ceil_mode=False)\n",
       "    (3): Conv2d(64, 192, kernel_size=(5, 5), stride=(1, 1), padding=(2, 2))\n",
       "    (4): ReLU(inplace=True)\n",
       "    (5): MaxPool2d(kernel_size=3, stride=2, padding=0, dilation=1, ceil_mode=False)\n",
       "    (6): Conv2d(192, 384, kernel_size=(3, 3), stride=(1, 1), padding=(1, 1))\n",
       "    (7): ReLU(inplace=True)\n",
       "    (8): Conv2d(384, 256, kernel_size=(3, 3), stride=(1, 1), padding=(1, 1))\n",
       "    (9): ReLU(inplace=True)\n",
       "    (10): Conv2d(256, 256, kernel_size=(3, 3), stride=(1, 1), padding=(1, 1))\n",
       "    (11): ReLU(inplace=True)\n",
       "    (12): MaxPool2d(kernel_size=3, stride=2, padding=0, dilation=1, ceil_mode=False)\n",
       "  )\n",
       "  (avgpool): AdaptiveAvgPool2d(output_size=(6, 6))\n",
       "  (classifier): Sequential(\n",
       "    (0): Dropout(p=0.5, inplace=False)\n",
       "    (1): Linear(in_features=9216, out_features=4096, bias=True)\n",
       "    (2): ReLU(inplace=True)\n",
       "    (3): Dropout(p=0.5, inplace=False)\n",
       "    (4): Linear(in_features=4096, out_features=4096, bias=True)\n",
       "    (5): ReLU(inplace=True)\n",
       "    (6): Linear(in_features=4096, out_features=10, bias=True)\n",
       "  )\n",
       ")"
      ]
     },
     "execution_count": 10,
     "metadata": {
      "tags": []
     },
     "output_type": "execute_result"
    }
   ],
   "source": [
    "# For CIFAR-10 dataset, we have to set the number of classes to 10\n",
    "AlexNet.classifier[6] = nn.Linear(4096,10)\n",
    "AlexNet.eval()\n",
    "AlexNet.to(device)"
   ]
  },
  {
   "cell_type": "code",
   "execution_count": null,
   "metadata": {
    "colab": {},
    "colab_type": "code",
    "id": "U6BIBkMs0uSn"
   },
   "outputs": [],
   "source": [
    "optimiser = optim.Adam(params=AlexNet.parameters(), lr=0.001)\n",
    "criterion = nn.CrossEntropyLoss()"
   ]
  },
  {
   "cell_type": "code",
   "execution_count": null,
   "metadata": {
    "colab": {
     "base_uri": "https://localhost:8080/",
     "height": 202
    },
    "colab_type": "code",
    "id": "3bO16XRA220G",
    "outputId": "537e70f3-4b30-4145-c3f9-9422080c57ae"
   },
   "outputs": [
    {
     "name": "stdout",
     "output_type": "stream",
     "text": [
      "tensor(2.1131, device='cuda:0', grad_fn=<NllLossBackward>)\n",
      "tensor(1.6430, device='cuda:0', grad_fn=<NllLossBackward>)\n",
      "tensor(1.4257, device='cuda:0', grad_fn=<NllLossBackward>)\n",
      "tensor(1.5067, device='cuda:0', grad_fn=<NllLossBackward>)\n",
      "tensor(0.8690, device='cuda:0', grad_fn=<NllLossBackward>)\n",
      "tensor(0.9183, device='cuda:0', grad_fn=<NllLossBackward>)\n",
      "tensor(0.9182, device='cuda:0', grad_fn=<NllLossBackward>)\n",
      "tensor(1.2837, device='cuda:0', grad_fn=<NllLossBackward>)\n",
      "tensor(0.9044, device='cuda:0', grad_fn=<NllLossBackward>)\n",
      "tensor(0.7977, device='cuda:0', grad_fn=<NllLossBackward>)\n",
      "Finished Training\n"
     ]
    }
   ],
   "source": [
    "EPOCHS = 10\n",
    "\n",
    "for epoch in (range(EPOCHS)):\n",
    "   \n",
    "    for i, data in enumerate(trainloader, 0):\n",
    "        inputs, labels = data\n",
    "        inputs = inputs.to(device)\n",
    "        labels = labels.to(device)\n",
    "        AlexNet.zero_grad()\n",
    "        outputs = AlexNet(inputs)\n",
    "        loss = criterion(outputs, labels)\n",
    "        loss.backward()\n",
    "        optimiser.step()\n",
    "    print(loss)\n",
    "    \n",
    "print('Finished Training')"
   ]
  },
  {
   "cell_type": "code",
   "execution_count": null,
   "metadata": {
    "colab": {},
    "colab_type": "code",
    "id": "8JzINHwLlvVi"
   },
   "outputs": [],
   "source": [
    "PATH = '/content/drive/My Drive/Alex/Weights/pytorch_model.pt'\n",
    "torch.save(AlexNet, PATH)"
   ]
  },
  {
   "cell_type": "code",
   "execution_count": null,
   "metadata": {
    "colab": {
     "base_uri": "https://localhost:8080/",
     "height": 34
    },
    "colab_type": "code",
    "id": "p3Zdjdf_3g7P",
    "outputId": "ce227d0f-81eb-4d24-ce10-3fb7df620f04"
   },
   "outputs": [
    {
     "name": "stdout",
     "output_type": "stream",
     "text": [
      "Accuracy of the network on the test images: 63 %\n"
     ]
    }
   ],
   "source": [
    "correct = 0\n",
    "total = 0\n",
    "with torch.no_grad():\n",
    "    for i, data in enumerate(testloader, 0):\n",
    "        inputs, labels = data\n",
    "        inputs = inputs.to(device)\n",
    "        labels = labels.to(device)\n",
    "        outputs = AlexNet(inputs)\n",
    "        _, predicted = torch.max(outputs.data, 1)\n",
    "        total += labels.size(0)\n",
    "        correct += (predicted == labels).sum().item()\n",
    "\n",
    "print('Accuracy of the network on the test images: %d %%' % (\n",
    "    100 * correct / total))"
   ]
  },
  {
   "cell_type": "code",
   "execution_count": null,
   "metadata": {
    "colab": {},
    "colab_type": "code",
    "id": "y1JX9xxmJaq7"
   },
   "outputs": [],
   "source": []
  },
  {
   "cell_type": "code",
   "execution_count": null,
   "metadata": {
    "colab": {},
    "colab_type": "code",
    "id": "YcS55BIEVMv_"
   },
   "outputs": [],
   "source": []
  },
  {
   "cell_type": "code",
   "execution_count": null,
   "metadata": {
    "colab": {},
    "colab_type": "code",
    "id": "T9A-M5pOVMtE"
   },
   "outputs": [],
   "source": [
    "Alexnet_model = AlexNet"
   ]
  },
  {
   "cell_type": "code",
   "execution_count": null,
   "metadata": {
    "colab": {},
    "colab_type": "code",
    "id": "BTQenJvGWJDp"
   },
   "outputs": [],
   "source": [
    "new_classifier = nn.Sequential(*list(AlexNet.classifier.children())[:-2])\n",
    "Alexnet_model.classifier = new_classifier"
   ]
  },
  {
   "cell_type": "code",
   "execution_count": null,
   "metadata": {
    "colab": {},
    "colab_type": "code",
    "id": "ie3updTuYxfA"
   },
   "outputs": [],
   "source": [
    "trainloader = torch.utils.data.DataLoader(trainset, batch_size=1,\n",
    "                                          shuffle=True)"
   ]
  },
  {
   "cell_type": "code",
   "execution_count": null,
   "metadata": {
    "colab": {},
    "colab_type": "code",
    "id": "dqfl4EN0WN6x"
   },
   "outputs": [],
   "source": [
    "X_train = []\n",
    "y_train = []\n",
    "for i, data in enumerate(trainloader, 0):\n",
    "        inputs, labels = data\n",
    "        inputs = inputs.to(device)\n",
    "        out = Alexnet_model(inputs)\n",
    "        out = out.cpu()\n",
    "        arr = out.detach().numpy()\n",
    "        X_train.append(arr)\n",
    "        y_train.append(labels)"
   ]
  },
  {
   "cell_type": "code",
   "execution_count": null,
   "metadata": {
    "colab": {},
    "colab_type": "code",
    "id": "sAB-6HfYX9PR"
   },
   "outputs": [],
   "source": [
    "train1 = np.array(X_train)\n",
    "shape = (50000,4096)\n",
    "X_train1 = train1.reshape(shape)\n",
    "\n",
    "train2 = np.array(y_train)\n",
    "shape = (50000,1)\n",
    "y_train1 = train2.reshape(shape)"
   ]
  },
  {
   "cell_type": "code",
   "execution_count": null,
   "metadata": {
    "colab": {
     "base_uri": "https://localhost:8080/",
     "height": 244
    },
    "colab_type": "code",
    "id": "lOpat8KHaJXU",
    "outputId": "12a20da6-e21b-4685-9e10-5d0cb1171c5b"
   },
   "outputs": [
    {
     "data": {
      "text/html": [
       "<div>\n",
       "<style scoped>\n",
       "    .dataframe tbody tr th:only-of-type {\n",
       "        vertical-align: middle;\n",
       "    }\n",
       "\n",
       "    .dataframe tbody tr th {\n",
       "        vertical-align: top;\n",
       "    }\n",
       "\n",
       "    .dataframe thead th {\n",
       "        text-align: right;\n",
       "    }\n",
       "</style>\n",
       "<table border=\"1\" class=\"dataframe\">\n",
       "  <thead>\n",
       "    <tr style=\"text-align: right;\">\n",
       "      <th></th>\n",
       "      <th>0</th>\n",
       "      <th>1</th>\n",
       "      <th>2</th>\n",
       "      <th>3</th>\n",
       "      <th>4</th>\n",
       "      <th>5</th>\n",
       "      <th>6</th>\n",
       "      <th>7</th>\n",
       "      <th>8</th>\n",
       "      <th>9</th>\n",
       "      <th>10</th>\n",
       "      <th>11</th>\n",
       "      <th>12</th>\n",
       "      <th>13</th>\n",
       "      <th>14</th>\n",
       "      <th>15</th>\n",
       "      <th>16</th>\n",
       "      <th>17</th>\n",
       "      <th>18</th>\n",
       "      <th>19</th>\n",
       "      <th>20</th>\n",
       "      <th>21</th>\n",
       "      <th>22</th>\n",
       "      <th>23</th>\n",
       "      <th>24</th>\n",
       "      <th>25</th>\n",
       "      <th>26</th>\n",
       "      <th>27</th>\n",
       "      <th>28</th>\n",
       "      <th>29</th>\n",
       "      <th>30</th>\n",
       "      <th>31</th>\n",
       "      <th>32</th>\n",
       "      <th>33</th>\n",
       "      <th>34</th>\n",
       "      <th>35</th>\n",
       "      <th>36</th>\n",
       "      <th>37</th>\n",
       "      <th>38</th>\n",
       "      <th>39</th>\n",
       "      <th>...</th>\n",
       "      <th>4056</th>\n",
       "      <th>4057</th>\n",
       "      <th>4058</th>\n",
       "      <th>4059</th>\n",
       "      <th>4060</th>\n",
       "      <th>4061</th>\n",
       "      <th>4062</th>\n",
       "      <th>4063</th>\n",
       "      <th>4064</th>\n",
       "      <th>4065</th>\n",
       "      <th>4066</th>\n",
       "      <th>4067</th>\n",
       "      <th>4068</th>\n",
       "      <th>4069</th>\n",
       "      <th>4070</th>\n",
       "      <th>4071</th>\n",
       "      <th>4072</th>\n",
       "      <th>4073</th>\n",
       "      <th>4074</th>\n",
       "      <th>4075</th>\n",
       "      <th>4076</th>\n",
       "      <th>4077</th>\n",
       "      <th>4078</th>\n",
       "      <th>4079</th>\n",
       "      <th>4080</th>\n",
       "      <th>4081</th>\n",
       "      <th>4082</th>\n",
       "      <th>4083</th>\n",
       "      <th>4084</th>\n",
       "      <th>4085</th>\n",
       "      <th>4086</th>\n",
       "      <th>4087</th>\n",
       "      <th>4088</th>\n",
       "      <th>4089</th>\n",
       "      <th>4090</th>\n",
       "      <th>4091</th>\n",
       "      <th>4092</th>\n",
       "      <th>4093</th>\n",
       "      <th>4094</th>\n",
       "      <th>4095</th>\n",
       "    </tr>\n",
       "  </thead>\n",
       "  <tbody>\n",
       "    <tr>\n",
       "      <th>0</th>\n",
       "      <td>-22.357113</td>\n",
       "      <td>31.422415</td>\n",
       "      <td>-10.628951</td>\n",
       "      <td>-12.043396</td>\n",
       "      <td>-17.674187</td>\n",
       "      <td>-9.062549</td>\n",
       "      <td>-46.124676</td>\n",
       "      <td>-14.703256</td>\n",
       "      <td>-12.055867</td>\n",
       "      <td>-8.829786</td>\n",
       "      <td>-16.389862</td>\n",
       "      <td>-16.342442</td>\n",
       "      <td>-13.598350</td>\n",
       "      <td>-21.105852</td>\n",
       "      <td>-19.140966</td>\n",
       "      <td>-4.255147</td>\n",
       "      <td>-42.111500</td>\n",
       "      <td>-35.837383</td>\n",
       "      <td>-44.494629</td>\n",
       "      <td>-45.914837</td>\n",
       "      <td>-10.994503</td>\n",
       "      <td>-10.506296</td>\n",
       "      <td>-5.166290</td>\n",
       "      <td>-9.464074</td>\n",
       "      <td>-37.025398</td>\n",
       "      <td>-10.183127</td>\n",
       "      <td>-10.171567</td>\n",
       "      <td>-16.563847</td>\n",
       "      <td>-29.890295</td>\n",
       "      <td>-19.328579</td>\n",
       "      <td>-121.634369</td>\n",
       "      <td>-25.387840</td>\n",
       "      <td>-30.909454</td>\n",
       "      <td>-13.623099</td>\n",
       "      <td>-27.764534</td>\n",
       "      <td>-27.511850</td>\n",
       "      <td>-17.986017</td>\n",
       "      <td>-27.253393</td>\n",
       "      <td>-38.077553</td>\n",
       "      <td>-10.740028</td>\n",
       "      <td>...</td>\n",
       "      <td>-13.149470</td>\n",
       "      <td>-9.524014</td>\n",
       "      <td>-18.872583</td>\n",
       "      <td>-21.577198</td>\n",
       "      <td>-40.803162</td>\n",
       "      <td>-7.709839</td>\n",
       "      <td>-14.737472</td>\n",
       "      <td>-18.583851</td>\n",
       "      <td>-36.884705</td>\n",
       "      <td>-67.098038</td>\n",
       "      <td>-9.264766</td>\n",
       "      <td>-34.627281</td>\n",
       "      <td>-7.143264</td>\n",
       "      <td>-11.158209</td>\n",
       "      <td>-9.318055</td>\n",
       "      <td>-28.992920</td>\n",
       "      <td>-22.185459</td>\n",
       "      <td>-13.071280</td>\n",
       "      <td>-26.121201</td>\n",
       "      <td>-15.661840</td>\n",
       "      <td>-13.444955</td>\n",
       "      <td>-39.587082</td>\n",
       "      <td>-35.627716</td>\n",
       "      <td>-48.552654</td>\n",
       "      <td>-25.225731</td>\n",
       "      <td>-14.641625</td>\n",
       "      <td>-11.822296</td>\n",
       "      <td>-37.832901</td>\n",
       "      <td>-99.585587</td>\n",
       "      <td>-10.537926</td>\n",
       "      <td>-30.541100</td>\n",
       "      <td>-17.025642</td>\n",
       "      <td>-12.765079</td>\n",
       "      <td>-48.320259</td>\n",
       "      <td>-65.324738</td>\n",
       "      <td>-54.185482</td>\n",
       "      <td>-11.120714</td>\n",
       "      <td>-22.696390</td>\n",
       "      <td>-32.196693</td>\n",
       "      <td>-60.614437</td>\n",
       "    </tr>\n",
       "    <tr>\n",
       "      <th>1</th>\n",
       "      <td>-41.090469</td>\n",
       "      <td>-27.074329</td>\n",
       "      <td>-6.959046</td>\n",
       "      <td>-12.359156</td>\n",
       "      <td>-13.292556</td>\n",
       "      <td>-6.918788</td>\n",
       "      <td>-21.235939</td>\n",
       "      <td>-11.099258</td>\n",
       "      <td>-11.921501</td>\n",
       "      <td>-5.918112</td>\n",
       "      <td>-13.038670</td>\n",
       "      <td>-8.914562</td>\n",
       "      <td>-8.765764</td>\n",
       "      <td>-10.839570</td>\n",
       "      <td>-13.612573</td>\n",
       "      <td>-3.136043</td>\n",
       "      <td>-30.592226</td>\n",
       "      <td>20.384909</td>\n",
       "      <td>-17.816292</td>\n",
       "      <td>-41.452515</td>\n",
       "      <td>-8.390076</td>\n",
       "      <td>-4.497503</td>\n",
       "      <td>-3.613654</td>\n",
       "      <td>-28.166904</td>\n",
       "      <td>-23.401396</td>\n",
       "      <td>-5.711039</td>\n",
       "      <td>-8.108607</td>\n",
       "      <td>-15.710956</td>\n",
       "      <td>-22.407757</td>\n",
       "      <td>-14.815751</td>\n",
       "      <td>-10.397775</td>\n",
       "      <td>-16.454590</td>\n",
       "      <td>-25.752045</td>\n",
       "      <td>-7.370722</td>\n",
       "      <td>-25.702311</td>\n",
       "      <td>-20.751234</td>\n",
       "      <td>-14.972533</td>\n",
       "      <td>-16.239403</td>\n",
       "      <td>-36.086555</td>\n",
       "      <td>-5.256194</td>\n",
       "      <td>...</td>\n",
       "      <td>-7.255111</td>\n",
       "      <td>-8.581865</td>\n",
       "      <td>-11.659254</td>\n",
       "      <td>-13.739040</td>\n",
       "      <td>-20.824419</td>\n",
       "      <td>23.934469</td>\n",
       "      <td>-9.837081</td>\n",
       "      <td>-8.633455</td>\n",
       "      <td>-23.640789</td>\n",
       "      <td>-31.494579</td>\n",
       "      <td>-4.383939</td>\n",
       "      <td>-13.944918</td>\n",
       "      <td>-6.585386</td>\n",
       "      <td>-12.829565</td>\n",
       "      <td>-6.603324</td>\n",
       "      <td>-16.841436</td>\n",
       "      <td>-13.626602</td>\n",
       "      <td>-10.134998</td>\n",
       "      <td>-10.490880</td>\n",
       "      <td>-11.619777</td>\n",
       "      <td>-10.414021</td>\n",
       "      <td>-13.294508</td>\n",
       "      <td>-24.390261</td>\n",
       "      <td>-45.377663</td>\n",
       "      <td>-16.934086</td>\n",
       "      <td>-10.348657</td>\n",
       "      <td>-7.207860</td>\n",
       "      <td>-42.507458</td>\n",
       "      <td>-33.071621</td>\n",
       "      <td>-7.998910</td>\n",
       "      <td>-48.489407</td>\n",
       "      <td>-8.184752</td>\n",
       "      <td>-9.244842</td>\n",
       "      <td>-36.447227</td>\n",
       "      <td>6.850604</td>\n",
       "      <td>-55.623913</td>\n",
       "      <td>-7.203391</td>\n",
       "      <td>-10.322604</td>\n",
       "      <td>-22.404188</td>\n",
       "      <td>-32.614712</td>\n",
       "    </tr>\n",
       "    <tr>\n",
       "      <th>2</th>\n",
       "      <td>-24.384384</td>\n",
       "      <td>-21.194845</td>\n",
       "      <td>-6.978611</td>\n",
       "      <td>-11.151893</td>\n",
       "      <td>-14.915277</td>\n",
       "      <td>-3.467864</td>\n",
       "      <td>-33.904243</td>\n",
       "      <td>-9.035235</td>\n",
       "      <td>-6.986090</td>\n",
       "      <td>-7.618218</td>\n",
       "      <td>-12.046366</td>\n",
       "      <td>-7.550766</td>\n",
       "      <td>-15.064261</td>\n",
       "      <td>-15.363521</td>\n",
       "      <td>-13.418299</td>\n",
       "      <td>-2.486114</td>\n",
       "      <td>-24.535868</td>\n",
       "      <td>-36.558907</td>\n",
       "      <td>-21.055222</td>\n",
       "      <td>-31.029329</td>\n",
       "      <td>-7.584010</td>\n",
       "      <td>-4.501604</td>\n",
       "      <td>-3.586230</td>\n",
       "      <td>-16.123049</td>\n",
       "      <td>-27.657759</td>\n",
       "      <td>-6.933251</td>\n",
       "      <td>-7.971369</td>\n",
       "      <td>-14.653252</td>\n",
       "      <td>-11.383043</td>\n",
       "      <td>-12.534865</td>\n",
       "      <td>-60.450508</td>\n",
       "      <td>-21.062218</td>\n",
       "      <td>-31.862614</td>\n",
       "      <td>-10.453632</td>\n",
       "      <td>-17.149485</td>\n",
       "      <td>-17.109308</td>\n",
       "      <td>-12.435679</td>\n",
       "      <td>-14.914718</td>\n",
       "      <td>-35.614906</td>\n",
       "      <td>-7.694231</td>\n",
       "      <td>...</td>\n",
       "      <td>-10.596003</td>\n",
       "      <td>-7.873999</td>\n",
       "      <td>-11.503175</td>\n",
       "      <td>-10.622757</td>\n",
       "      <td>-23.386206</td>\n",
       "      <td>-51.154808</td>\n",
       "      <td>-6.323208</td>\n",
       "      <td>-13.249192</td>\n",
       "      <td>-14.896047</td>\n",
       "      <td>-28.920599</td>\n",
       "      <td>-9.145644</td>\n",
       "      <td>-21.461824</td>\n",
       "      <td>-7.077690</td>\n",
       "      <td>-11.821798</td>\n",
       "      <td>-5.780771</td>\n",
       "      <td>-15.870038</td>\n",
       "      <td>-16.233919</td>\n",
       "      <td>-9.531764</td>\n",
       "      <td>-17.733164</td>\n",
       "      <td>-9.533693</td>\n",
       "      <td>-13.110082</td>\n",
       "      <td>-17.433241</td>\n",
       "      <td>-25.548494</td>\n",
       "      <td>-32.806046</td>\n",
       "      <td>-2.375754</td>\n",
       "      <td>-10.217098</td>\n",
       "      <td>-5.370861</td>\n",
       "      <td>-41.188095</td>\n",
       "      <td>-12.599454</td>\n",
       "      <td>-11.036797</td>\n",
       "      <td>-18.847780</td>\n",
       "      <td>-11.139484</td>\n",
       "      <td>-8.983601</td>\n",
       "      <td>-21.075123</td>\n",
       "      <td>-26.575003</td>\n",
       "      <td>-37.656006</td>\n",
       "      <td>-7.471581</td>\n",
       "      <td>-12.061083</td>\n",
       "      <td>-27.756237</td>\n",
       "      <td>-38.131023</td>\n",
       "    </tr>\n",
       "    <tr>\n",
       "      <th>3</th>\n",
       "      <td>-60.991070</td>\n",
       "      <td>2.082626</td>\n",
       "      <td>-10.170972</td>\n",
       "      <td>-17.638025</td>\n",
       "      <td>-34.695778</td>\n",
       "      <td>-15.403118</td>\n",
       "      <td>-71.502296</td>\n",
       "      <td>-15.870802</td>\n",
       "      <td>-14.662900</td>\n",
       "      <td>-8.572796</td>\n",
       "      <td>-20.935797</td>\n",
       "      <td>-17.530512</td>\n",
       "      <td>-19.676445</td>\n",
       "      <td>-20.169817</td>\n",
       "      <td>-25.166666</td>\n",
       "      <td>-3.491534</td>\n",
       "      <td>-61.884899</td>\n",
       "      <td>10.431143</td>\n",
       "      <td>-36.502407</td>\n",
       "      <td>-62.128471</td>\n",
       "      <td>-15.131849</td>\n",
       "      <td>-15.116314</td>\n",
       "      <td>-2.617938</td>\n",
       "      <td>-66.440269</td>\n",
       "      <td>-48.807480</td>\n",
       "      <td>-9.997970</td>\n",
       "      <td>-12.201532</td>\n",
       "      <td>-22.253834</td>\n",
       "      <td>-64.520798</td>\n",
       "      <td>-21.839727</td>\n",
       "      <td>-44.512291</td>\n",
       "      <td>-36.097927</td>\n",
       "      <td>-55.421562</td>\n",
       "      <td>-14.327885</td>\n",
       "      <td>-26.882875</td>\n",
       "      <td>-32.588379</td>\n",
       "      <td>-29.103022</td>\n",
       "      <td>-26.643724</td>\n",
       "      <td>-51.827362</td>\n",
       "      <td>-9.559845</td>\n",
       "      <td>...</td>\n",
       "      <td>-12.600736</td>\n",
       "      <td>-12.571262</td>\n",
       "      <td>-16.165461</td>\n",
       "      <td>-19.549864</td>\n",
       "      <td>-59.586952</td>\n",
       "      <td>4.260221</td>\n",
       "      <td>-14.904366</td>\n",
       "      <td>-24.813843</td>\n",
       "      <td>-50.908386</td>\n",
       "      <td>-56.139900</td>\n",
       "      <td>-10.011593</td>\n",
       "      <td>-34.525459</td>\n",
       "      <td>-9.409728</td>\n",
       "      <td>-11.863654</td>\n",
       "      <td>-9.801031</td>\n",
       "      <td>-36.589325</td>\n",
       "      <td>-26.772860</td>\n",
       "      <td>-15.322851</td>\n",
       "      <td>-34.683899</td>\n",
       "      <td>-16.643763</td>\n",
       "      <td>-14.260525</td>\n",
       "      <td>-29.846741</td>\n",
       "      <td>-27.649597</td>\n",
       "      <td>-20.406931</td>\n",
       "      <td>-9.802055</td>\n",
       "      <td>-20.353527</td>\n",
       "      <td>-11.656566</td>\n",
       "      <td>-42.185455</td>\n",
       "      <td>-116.481323</td>\n",
       "      <td>-16.431320</td>\n",
       "      <td>-48.015533</td>\n",
       "      <td>-16.006651</td>\n",
       "      <td>-12.700379</td>\n",
       "      <td>-67.837929</td>\n",
       "      <td>-61.509384</td>\n",
       "      <td>-95.784203</td>\n",
       "      <td>-12.716416</td>\n",
       "      <td>-24.874596</td>\n",
       "      <td>-61.682240</td>\n",
       "      <td>-95.368759</td>\n",
       "    </tr>\n",
       "    <tr>\n",
       "      <th>4</th>\n",
       "      <td>-34.949051</td>\n",
       "      <td>1.722352</td>\n",
       "      <td>-10.326998</td>\n",
       "      <td>-8.819321</td>\n",
       "      <td>-9.636962</td>\n",
       "      <td>-8.047864</td>\n",
       "      <td>-26.300343</td>\n",
       "      <td>-7.342387</td>\n",
       "      <td>-8.811357</td>\n",
       "      <td>-7.382533</td>\n",
       "      <td>-8.201268</td>\n",
       "      <td>-8.979960</td>\n",
       "      <td>-9.398632</td>\n",
       "      <td>-12.149743</td>\n",
       "      <td>-15.749556</td>\n",
       "      <td>-3.958238</td>\n",
       "      <td>-2.898312</td>\n",
       "      <td>26.645174</td>\n",
       "      <td>-26.648420</td>\n",
       "      <td>-44.521133</td>\n",
       "      <td>-7.033261</td>\n",
       "      <td>-13.791902</td>\n",
       "      <td>-5.865190</td>\n",
       "      <td>-12.977158</td>\n",
       "      <td>-33.230324</td>\n",
       "      <td>-11.217604</td>\n",
       "      <td>-9.127476</td>\n",
       "      <td>-11.325417</td>\n",
       "      <td>-32.592812</td>\n",
       "      <td>-18.220638</td>\n",
       "      <td>-36.246613</td>\n",
       "      <td>-17.249582</td>\n",
       "      <td>-28.592690</td>\n",
       "      <td>-10.071706</td>\n",
       "      <td>-20.439287</td>\n",
       "      <td>-20.475075</td>\n",
       "      <td>-16.653675</td>\n",
       "      <td>-17.709850</td>\n",
       "      <td>-17.849661</td>\n",
       "      <td>-9.999463</td>\n",
       "      <td>...</td>\n",
       "      <td>-6.186445</td>\n",
       "      <td>-9.329619</td>\n",
       "      <td>-8.381106</td>\n",
       "      <td>-5.485640</td>\n",
       "      <td>-13.580740</td>\n",
       "      <td>-2.221179</td>\n",
       "      <td>-6.459568</td>\n",
       "      <td>-12.953468</td>\n",
       "      <td>-14.151176</td>\n",
       "      <td>-33.488651</td>\n",
       "      <td>-5.737262</td>\n",
       "      <td>-24.002136</td>\n",
       "      <td>-5.645770</td>\n",
       "      <td>-10.472156</td>\n",
       "      <td>-7.443005</td>\n",
       "      <td>-15.764541</td>\n",
       "      <td>-4.154459</td>\n",
       "      <td>-9.669707</td>\n",
       "      <td>-28.151579</td>\n",
       "      <td>-9.060437</td>\n",
       "      <td>-10.531430</td>\n",
       "      <td>-16.173197</td>\n",
       "      <td>-14.611894</td>\n",
       "      <td>-13.213158</td>\n",
       "      <td>-28.229458</td>\n",
       "      <td>-12.475732</td>\n",
       "      <td>-7.620391</td>\n",
       "      <td>-16.062893</td>\n",
       "      <td>-32.573704</td>\n",
       "      <td>-11.190103</td>\n",
       "      <td>-34.116108</td>\n",
       "      <td>-13.315237</td>\n",
       "      <td>-11.565798</td>\n",
       "      <td>-36.887733</td>\n",
       "      <td>-32.045448</td>\n",
       "      <td>-15.480652</td>\n",
       "      <td>-12.339179</td>\n",
       "      <td>-12.698710</td>\n",
       "      <td>-25.260487</td>\n",
       "      <td>-31.029192</td>\n",
       "    </tr>\n",
       "  </tbody>\n",
       "</table>\n",
       "<p>5 rows × 4096 columns</p>\n",
       "</div>"
      ],
      "text/plain": [
       "        0          1          2     ...       4093       4094       4095\n",
       "0 -22.357113  31.422415 -10.628951  ... -22.696390 -32.196693 -60.614437\n",
       "1 -41.090469 -27.074329  -6.959046  ... -10.322604 -22.404188 -32.614712\n",
       "2 -24.384384 -21.194845  -6.978611  ... -12.061083 -27.756237 -38.131023\n",
       "3 -60.991070   2.082626 -10.170972  ... -24.874596 -61.682240 -95.368759\n",
       "4 -34.949051   1.722352 -10.326998  ... -12.698710 -25.260487 -31.029192\n",
       "\n",
       "[5 rows x 4096 columns]"
      ]
     },
     "execution_count": 20,
     "metadata": {
      "tags": []
     },
     "output_type": "execute_result"
    }
   ],
   "source": [
    "df1 = pd.DataFrame(X_train1)\n",
    "df1.head()"
   ]
  },
  {
   "cell_type": "code",
   "execution_count": null,
   "metadata": {
    "colab": {},
    "colab_type": "code",
    "id": "JtFU9puNcD7o"
   },
   "outputs": [],
   "source": [
    "testloader = torch.utils.data.DataLoader(testset, batch_size=1,\n",
    "                                          shuffle=True)\n",
    "X_test = []\n",
    "y_test = []\n",
    "for i, data in enumerate(testloader, 0):\n",
    "        inputs, labels = data\n",
    "        inputs = inputs.to(device)\n",
    "        out = Alexnet_model(inputs)\n",
    "        out = out.cpu()\n",
    "        arr = out.detach().numpy()\n",
    "        X_test.append(arr)\n",
    "        y_test.append(labels)\n",
    "\n",
    "test1 = np.array(X_test)\n",
    "shape = (10000,4096)\n",
    "X_test1 = test1.reshape(shape)\n",
    "\n",
    "test2 = np.array(y_test)\n",
    "shape = (10000,1)\n",
    "y_test1 = test2.reshape(shape)\n"
   ]
  },
  {
   "cell_type": "code",
   "execution_count": null,
   "metadata": {
    "colab": {},
    "colab_type": "code",
    "id": "3eQB4-HDbGMA"
   },
   "outputs": [],
   "source": [
    "# Imports"
   ]
  },
  {
   "cell_type": "code",
   "execution_count": null,
   "metadata": {
    "colab": {},
    "colab_type": "code",
    "id": "dWKIbZIlbvYb"
   },
   "outputs": [],
   "source": [
    "from sklearn.neighbors import KNeighborsClassifier"
   ]
  },
  {
   "cell_type": "code",
   "execution_count": null,
   "metadata": {
    "colab": {
     "base_uri": "https://localhost:8080/",
     "height": 34
    },
    "colab_type": "code",
    "id": "3nRTZ6lB9aKw",
    "outputId": "98d40c61-577c-4451-99f3-5cc32ec33fa3"
   },
   "outputs": [
    {
     "data": {
      "text/plain": [
       "(50000, 4096)"
      ]
     },
     "execution_count": 27,
     "metadata": {
      "tags": []
     },
     "output_type": "execute_result"
    }
   ],
   "source": [
    "X_train1.shape"
   ]
  },
  {
   "cell_type": "code",
   "execution_count": null,
   "metadata": {
    "colab": {
     "base_uri": "https://localhost:8080/",
     "height": 67
    },
    "colab_type": "code",
    "id": "X8JZOGepxOfW",
    "outputId": "617b6d38-3f03-43cb-b84a-78303758ec79"
   },
   "outputs": [
    {
     "data": {
      "text/plain": [
       "KNeighborsClassifier(algorithm='auto', leaf_size=30, metric='minkowski',\n",
       "                     metric_params=None, n_jobs=None, n_neighbors=10, p=2,\n",
       "                     weights='uniform')"
      ]
     },
     "execution_count": 28,
     "metadata": {
      "tags": []
     },
     "output_type": "execute_result"
    }
   ],
   "source": [
    "knn = KNeighborsClassifier(n_neighbors=10)\n",
    "knn.fit(X_train1, train2)"
   ]
  },
  {
   "cell_type": "code",
   "execution_count": null,
   "metadata": {
    "colab": {},
    "colab_type": "code",
    "id": "7sIXKeZzuHvj"
   },
   "outputs": [],
   "source": [
    "y_pred = knn.predict(X_test1)"
   ]
  },
  {
   "cell_type": "code",
   "execution_count": null,
   "metadata": {
    "colab": {},
    "colab_type": "code",
    "id": "2SFI7Uf-km_e"
   },
   "outputs": [],
   "source": [
    "from sklearn.ensemble import RandomForestClassifier"
   ]
  },
  {
   "cell_type": "code",
   "execution_count": null,
   "metadata": {
    "colab": {},
    "colab_type": "code",
    "id": "A-nkUyia_LgJ"
   },
   "outputs": [],
   "source": [
    "clf = RandomForestClassifier()"
   ]
  },
  {
   "cell_type": "code",
   "execution_count": null,
   "metadata": {
    "colab": {
     "base_uri": "https://localhost:8080/",
     "height": 151
    },
    "colab_type": "code",
    "id": "DxWJj0l0_SVF",
    "outputId": "32bebba1-d348-4a47-a8d0-f2eb00d90fc1"
   },
   "outputs": [
    {
     "data": {
      "text/plain": [
       "RandomForestClassifier(bootstrap=True, ccp_alpha=0.0, class_weight=None,\n",
       "                       criterion='gini', max_depth=None, max_features='auto',\n",
       "                       max_leaf_nodes=None, max_samples=None,\n",
       "                       min_impurity_decrease=0.0, min_impurity_split=None,\n",
       "                       min_samples_leaf=1, min_samples_split=2,\n",
       "                       min_weight_fraction_leaf=0.0, n_estimators=100,\n",
       "                       n_jobs=None, oob_score=False, random_state=None,\n",
       "                       verbose=0, warm_start=False)"
      ]
     },
     "execution_count": 31,
     "metadata": {
      "tags": []
     },
     "output_type": "execute_result"
    }
   ],
   "source": [
    "clf.fit(X_train1,train2)"
   ]
  },
  {
   "cell_type": "code",
   "execution_count": null,
   "metadata": {
    "colab": {
     "base_uri": "https://localhost:8080/",
     "height": 34
    },
    "colab_type": "code",
    "id": "I0vC5pOXDMj5",
    "outputId": "6995a4af-c442-4658-e1f5-1ba5fec4015f"
   },
   "outputs": [
    {
     "name": "stdout",
     "output_type": "stream",
     "text": [
      "Accuracy of the network on the test images: 69 %\n"
     ]
    }
   ],
   "source": [
    "## Random Forest Accuracy\n",
    "\n",
    "correct = 0\n",
    "total = 0\n",
    "\n",
    "for i in range(0,10000):\n",
    "    inputs, labels = X_test[i],test2[i]\n",
    "    v = inputs.reshape(1,-1)\n",
    "    outputs = clf.predict(v)\n",
    "    total += 1\n",
    "    if outputs == np.array(labels):\n",
    "      correct +=1\n",
    "\n",
    "print('Accuracy of the network on the test images: %d %%' % (\n",
    "    100 * correct / total))"
   ]
  },
  {
   "cell_type": "code",
   "execution_count": null,
   "metadata": {
    "colab": {
     "base_uri": "https://localhost:8080/",
     "height": 34
    },
    "colab_type": "code",
    "id": "ZE_KTU6BFOxo",
    "outputId": "d368eac2-3f02-4849-b715-169347a6bc7b"
   },
   "outputs": [
    {
     "name": "stdout",
     "output_type": "stream",
     "text": [
      "Accuracy of the network on the test images: 68 %\n"
     ]
    }
   ],
   "source": [
    "# KNN accuracy\n",
    "\n",
    "correct = 0\n",
    "total = 0\n",
    "\n",
    "for i in range(0,10000):\n",
    "    inputs, labels = X_test[i],test2[i]\n",
    "    v = inputs.reshape(1,-1)\n",
    "    outputs = knn.predict(v)\n",
    "    total += 1\n",
    "    if outputs == np.array(labels):\n",
    "      correct +=1\n",
    "\n",
    "print('Accuracy of the network on the test images: %d %%' % (\n",
    "    100 * correct / total))"
   ]
  },
  {
   "cell_type": "code",
   "execution_count": null,
   "metadata": {
    "colab": {},
    "colab_type": "code",
    "id": "KgFGlIOpITOa"
   },
   "outputs": [],
   "source": []
  }
 ],
 "metadata": {
  "accelerator": "GPU",
  "colab": {
   "name": "Copy of Alexnet - Cifar 10.ipynb",
   "provenance": []
  },
  "kernelspec": {
   "display_name": "Python 3",
   "language": "python",
   "name": "python3"
  },
  "language_info": {
   "codemirror_mode": {
    "name": "ipython",
    "version": 3
   },
   "file_extension": ".py",
   "mimetype": "text/x-python",
   "name": "python",
   "nbconvert_exporter": "python",
   "pygments_lexer": "ipython3",
   "version": "3.7.3"
  },
  "widgets": {
   "application/vnd.jupyter.widget-state+json": {
    "000f0e3dc91f4dea91e6198d778715aa": {
     "model_module": "@jupyter-widgets/base",
     "model_name": "LayoutModel",
     "state": {
      "_model_module": "@jupyter-widgets/base",
      "_model_module_version": "1.2.0",
      "_model_name": "LayoutModel",
      "_view_count": null,
      "_view_module": "@jupyter-widgets/base",
      "_view_module_version": "1.2.0",
      "_view_name": "LayoutView",
      "align_content": null,
      "align_items": null,
      "align_self": null,
      "border": null,
      "bottom": null,
      "display": null,
      "flex": null,
      "flex_flow": null,
      "grid_area": null,
      "grid_auto_columns": null,
      "grid_auto_flow": null,
      "grid_auto_rows": null,
      "grid_column": null,
      "grid_gap": null,
      "grid_row": null,
      "grid_template_areas": null,
      "grid_template_columns": null,
      "grid_template_rows": null,
      "height": null,
      "justify_content": null,
      "justify_items": null,
      "left": null,
      "margin": null,
      "max_height": null,
      "max_width": null,
      "min_height": null,
      "min_width": null,
      "object_fit": null,
      "object_position": null,
      "order": null,
      "overflow": null,
      "overflow_x": null,
      "overflow_y": null,
      "padding": null,
      "right": null,
      "top": null,
      "visibility": null,
      "width": null
     }
    },
    "3acde0eac336436baae5fa6c8cac61aa": {
     "model_module": "@jupyter-widgets/controls",
     "model_name": "HTMLModel",
     "state": {
      "_dom_classes": [],
      "_model_module": "@jupyter-widgets/controls",
      "_model_module_version": "1.5.0",
      "_model_name": "HTMLModel",
      "_view_count": null,
      "_view_module": "@jupyter-widgets/controls",
      "_view_module_version": "1.5.0",
      "_view_name": "HTMLView",
      "description": "",
      "description_tooltip": null,
      "layout": "IPY_MODEL_5c3d6bc6d6c24963ba7f3c050866a9d6",
      "placeholder": "​",
      "style": "IPY_MODEL_961926fdbb9a472e83c68fc4d1f9a635",
      "value": " 170500096/? [00:20&lt;00:00, 33523558.48it/s]"
     }
    },
    "42a1f5ab0dc34377a857563606522a71": {
     "model_module": "@jupyter-widgets/controls",
     "model_name": "FloatProgressModel",
     "state": {
      "_dom_classes": [],
      "_model_module": "@jupyter-widgets/controls",
      "_model_module_version": "1.5.0",
      "_model_name": "FloatProgressModel",
      "_view_count": null,
      "_view_module": "@jupyter-widgets/controls",
      "_view_module_version": "1.5.0",
      "_view_name": "ProgressView",
      "bar_style": "success",
      "description": "100%",
      "description_tooltip": null,
      "layout": "IPY_MODEL_616f6c2e49254ab99e0d4ce69f81f0ec",
      "max": 244418560,
      "min": 0,
      "orientation": "horizontal",
      "style": "IPY_MODEL_f0b99be83afe484cbbeb6096ccc287bd",
      "value": 244418560
     }
    },
    "5014f0a20f46486697ce0c820e3b354d": {
     "model_module": "@jupyter-widgets/controls",
     "model_name": "HBoxModel",
     "state": {
      "_dom_classes": [],
      "_model_module": "@jupyter-widgets/controls",
      "_model_module_version": "1.5.0",
      "_model_name": "HBoxModel",
      "_view_count": null,
      "_view_module": "@jupyter-widgets/controls",
      "_view_module_version": "1.5.0",
      "_view_name": "HBoxView",
      "box_style": "",
      "children": [
       "IPY_MODEL_42a1f5ab0dc34377a857563606522a71",
       "IPY_MODEL_e0c361d1091f46b383fec06bfafcc9c3"
      ],
      "layout": "IPY_MODEL_000f0e3dc91f4dea91e6198d778715aa"
     }
    },
    "5c3d6bc6d6c24963ba7f3c050866a9d6": {
     "model_module": "@jupyter-widgets/base",
     "model_name": "LayoutModel",
     "state": {
      "_model_module": "@jupyter-widgets/base",
      "_model_module_version": "1.2.0",
      "_model_name": "LayoutModel",
      "_view_count": null,
      "_view_module": "@jupyter-widgets/base",
      "_view_module_version": "1.2.0",
      "_view_name": "LayoutView",
      "align_content": null,
      "align_items": null,
      "align_self": null,
      "border": null,
      "bottom": null,
      "display": null,
      "flex": null,
      "flex_flow": null,
      "grid_area": null,
      "grid_auto_columns": null,
      "grid_auto_flow": null,
      "grid_auto_rows": null,
      "grid_column": null,
      "grid_gap": null,
      "grid_row": null,
      "grid_template_areas": null,
      "grid_template_columns": null,
      "grid_template_rows": null,
      "height": null,
      "justify_content": null,
      "justify_items": null,
      "left": null,
      "margin": null,
      "max_height": null,
      "max_width": null,
      "min_height": null,
      "min_width": null,
      "object_fit": null,
      "object_position": null,
      "order": null,
      "overflow": null,
      "overflow_x": null,
      "overflow_y": null,
      "padding": null,
      "right": null,
      "top": null,
      "visibility": null,
      "width": null
     }
    },
    "616f6c2e49254ab99e0d4ce69f81f0ec": {
     "model_module": "@jupyter-widgets/base",
     "model_name": "LayoutModel",
     "state": {
      "_model_module": "@jupyter-widgets/base",
      "_model_module_version": "1.2.0",
      "_model_name": "LayoutModel",
      "_view_count": null,
      "_view_module": "@jupyter-widgets/base",
      "_view_module_version": "1.2.0",
      "_view_name": "LayoutView",
      "align_content": null,
      "align_items": null,
      "align_self": null,
      "border": null,
      "bottom": null,
      "display": null,
      "flex": null,
      "flex_flow": null,
      "grid_area": null,
      "grid_auto_columns": null,
      "grid_auto_flow": null,
      "grid_auto_rows": null,
      "grid_column": null,
      "grid_gap": null,
      "grid_row": null,
      "grid_template_areas": null,
      "grid_template_columns": null,
      "grid_template_rows": null,
      "height": null,
      "justify_content": null,
      "justify_items": null,
      "left": null,
      "margin": null,
      "max_height": null,
      "max_width": null,
      "min_height": null,
      "min_width": null,
      "object_fit": null,
      "object_position": null,
      "order": null,
      "overflow": null,
      "overflow_x": null,
      "overflow_y": null,
      "padding": null,
      "right": null,
      "top": null,
      "visibility": null,
      "width": null
     }
    },
    "692e285280874c5591c2db3afa673459": {
     "model_module": "@jupyter-widgets/controls",
     "model_name": "FloatProgressModel",
     "state": {
      "_dom_classes": [],
      "_model_module": "@jupyter-widgets/controls",
      "_model_module_version": "1.5.0",
      "_model_name": "FloatProgressModel",
      "_view_count": null,
      "_view_module": "@jupyter-widgets/controls",
      "_view_module_version": "1.5.0",
      "_view_name": "ProgressView",
      "bar_style": "info",
      "description": "",
      "description_tooltip": null,
      "layout": "IPY_MODEL_ba1b18be65df49a195e95b3d94fff104",
      "max": 1,
      "min": 0,
      "orientation": "horizontal",
      "style": "IPY_MODEL_6ecc3c02ccc341118d748b01d36103cc",
      "value": 1
     }
    },
    "6ecc3c02ccc341118d748b01d36103cc": {
     "model_module": "@jupyter-widgets/controls",
     "model_name": "ProgressStyleModel",
     "state": {
      "_model_module": "@jupyter-widgets/controls",
      "_model_module_version": "1.5.0",
      "_model_name": "ProgressStyleModel",
      "_view_count": null,
      "_view_module": "@jupyter-widgets/base",
      "_view_module_version": "1.2.0",
      "_view_name": "StyleView",
      "bar_color": null,
      "description_width": "initial"
     }
    },
    "961926fdbb9a472e83c68fc4d1f9a635": {
     "model_module": "@jupyter-widgets/controls",
     "model_name": "DescriptionStyleModel",
     "state": {
      "_model_module": "@jupyter-widgets/controls",
      "_model_module_version": "1.5.0",
      "_model_name": "DescriptionStyleModel",
      "_view_count": null,
      "_view_module": "@jupyter-widgets/base",
      "_view_module_version": "1.2.0",
      "_view_name": "StyleView",
      "description_width": ""
     }
    },
    "abcbf26dfe7344a7b2c05dba2aaec8ac": {
     "model_module": "@jupyter-widgets/base",
     "model_name": "LayoutModel",
     "state": {
      "_model_module": "@jupyter-widgets/base",
      "_model_module_version": "1.2.0",
      "_model_name": "LayoutModel",
      "_view_count": null,
      "_view_module": "@jupyter-widgets/base",
      "_view_module_version": "1.2.0",
      "_view_name": "LayoutView",
      "align_content": null,
      "align_items": null,
      "align_self": null,
      "border": null,
      "bottom": null,
      "display": null,
      "flex": null,
      "flex_flow": null,
      "grid_area": null,
      "grid_auto_columns": null,
      "grid_auto_flow": null,
      "grid_auto_rows": null,
      "grid_column": null,
      "grid_gap": null,
      "grid_row": null,
      "grid_template_areas": null,
      "grid_template_columns": null,
      "grid_template_rows": null,
      "height": null,
      "justify_content": null,
      "justify_items": null,
      "left": null,
      "margin": null,
      "max_height": null,
      "max_width": null,
      "min_height": null,
      "min_width": null,
      "object_fit": null,
      "object_position": null,
      "order": null,
      "overflow": null,
      "overflow_x": null,
      "overflow_y": null,
      "padding": null,
      "right": null,
      "top": null,
      "visibility": null,
      "width": null
     }
    },
    "ac0e380e4e414a8286bd499a2fdcea09": {
     "model_module": "@jupyter-widgets/controls",
     "model_name": "HBoxModel",
     "state": {
      "_dom_classes": [],
      "_model_module": "@jupyter-widgets/controls",
      "_model_module_version": "1.5.0",
      "_model_name": "HBoxModel",
      "_view_count": null,
      "_view_module": "@jupyter-widgets/controls",
      "_view_module_version": "1.5.0",
      "_view_name": "HBoxView",
      "box_style": "",
      "children": [
       "IPY_MODEL_692e285280874c5591c2db3afa673459",
       "IPY_MODEL_3acde0eac336436baae5fa6c8cac61aa"
      ],
      "layout": "IPY_MODEL_fe4d2bbca07b4ae9ae77d9e74fcb0b66"
     }
    },
    "ba1b18be65df49a195e95b3d94fff104": {
     "model_module": "@jupyter-widgets/base",
     "model_name": "LayoutModel",
     "state": {
      "_model_module": "@jupyter-widgets/base",
      "_model_module_version": "1.2.0",
      "_model_name": "LayoutModel",
      "_view_count": null,
      "_view_module": "@jupyter-widgets/base",
      "_view_module_version": "1.2.0",
      "_view_name": "LayoutView",
      "align_content": null,
      "align_items": null,
      "align_self": null,
      "border": null,
      "bottom": null,
      "display": null,
      "flex": null,
      "flex_flow": null,
      "grid_area": null,
      "grid_auto_columns": null,
      "grid_auto_flow": null,
      "grid_auto_rows": null,
      "grid_column": null,
      "grid_gap": null,
      "grid_row": null,
      "grid_template_areas": null,
      "grid_template_columns": null,
      "grid_template_rows": null,
      "height": null,
      "justify_content": null,
      "justify_items": null,
      "left": null,
      "margin": null,
      "max_height": null,
      "max_width": null,
      "min_height": null,
      "min_width": null,
      "object_fit": null,
      "object_position": null,
      "order": null,
      "overflow": null,
      "overflow_x": null,
      "overflow_y": null,
      "padding": null,
      "right": null,
      "top": null,
      "visibility": null,
      "width": null
     }
    },
    "e0c361d1091f46b383fec06bfafcc9c3": {
     "model_module": "@jupyter-widgets/controls",
     "model_name": "HTMLModel",
     "state": {
      "_dom_classes": [],
      "_model_module": "@jupyter-widgets/controls",
      "_model_module_version": "1.5.0",
      "_model_name": "HTMLModel",
      "_view_count": null,
      "_view_module": "@jupyter-widgets/controls",
      "_view_module_version": "1.5.0",
      "_view_name": "HTMLView",
      "description": "",
      "description_tooltip": null,
      "layout": "IPY_MODEL_abcbf26dfe7344a7b2c05dba2aaec8ac",
      "placeholder": "​",
      "style": "IPY_MODEL_e3cf9adba9a241dabcfc52ae45645f0a",
      "value": " 233M/233M [00:10&lt;00:00, 23.6MB/s]"
     }
    },
    "e3cf9adba9a241dabcfc52ae45645f0a": {
     "model_module": "@jupyter-widgets/controls",
     "model_name": "DescriptionStyleModel",
     "state": {
      "_model_module": "@jupyter-widgets/controls",
      "_model_module_version": "1.5.0",
      "_model_name": "DescriptionStyleModel",
      "_view_count": null,
      "_view_module": "@jupyter-widgets/base",
      "_view_module_version": "1.2.0",
      "_view_name": "StyleView",
      "description_width": ""
     }
    },
    "f0b99be83afe484cbbeb6096ccc287bd": {
     "model_module": "@jupyter-widgets/controls",
     "model_name": "ProgressStyleModel",
     "state": {
      "_model_module": "@jupyter-widgets/controls",
      "_model_module_version": "1.5.0",
      "_model_name": "ProgressStyleModel",
      "_view_count": null,
      "_view_module": "@jupyter-widgets/base",
      "_view_module_version": "1.2.0",
      "_view_name": "StyleView",
      "bar_color": null,
      "description_width": "initial"
     }
    },
    "fe4d2bbca07b4ae9ae77d9e74fcb0b66": {
     "model_module": "@jupyter-widgets/base",
     "model_name": "LayoutModel",
     "state": {
      "_model_module": "@jupyter-widgets/base",
      "_model_module_version": "1.2.0",
      "_model_name": "LayoutModel",
      "_view_count": null,
      "_view_module": "@jupyter-widgets/base",
      "_view_module_version": "1.2.0",
      "_view_name": "LayoutView",
      "align_content": null,
      "align_items": null,
      "align_self": null,
      "border": null,
      "bottom": null,
      "display": null,
      "flex": null,
      "flex_flow": null,
      "grid_area": null,
      "grid_auto_columns": null,
      "grid_auto_flow": null,
      "grid_auto_rows": null,
      "grid_column": null,
      "grid_gap": null,
      "grid_row": null,
      "grid_template_areas": null,
      "grid_template_columns": null,
      "grid_template_rows": null,
      "height": null,
      "justify_content": null,
      "justify_items": null,
      "left": null,
      "margin": null,
      "max_height": null,
      "max_width": null,
      "min_height": null,
      "min_width": null,
      "object_fit": null,
      "object_position": null,
      "order": null,
      "overflow": null,
      "overflow_x": null,
      "overflow_y": null,
      "padding": null,
      "right": null,
      "top": null,
      "visibility": null,
      "width": null
     }
    }
   }
  }
 },
 "nbformat": 4,
 "nbformat_minor": 1
}
